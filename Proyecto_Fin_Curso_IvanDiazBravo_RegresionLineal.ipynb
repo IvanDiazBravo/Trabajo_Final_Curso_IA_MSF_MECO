{
  "nbformat": 4,
  "nbformat_minor": 0,
  "metadata": {
    "colab": {
      "provenance": [],
      "toc_visible": true,
      "authorship_tag": "ABX9TyMTTJJtF1jPwirx8Q2CdbU/",
      "include_colab_link": true
    },
    "kernelspec": {
      "name": "python3",
      "display_name": "Python 3"
    },
    "language_info": {
      "name": "python"
    }
  },
  "cells": [
    {
      "cell_type": "markdown",
      "metadata": {
        "id": "view-in-github",
        "colab_type": "text"
      },
      "source": [
        "<a href=\"https://colab.research.google.com/github/IvanDiazBravo/Trabajo_Final_Curso_IA_MSF_MECO/blob/main/Proyecto_Fin_Curso_IvanDiazBravo_RegresionLineal.ipynb\" target=\"_parent\"><img src=\"https://colab.research.google.com/assets/colab-badge.svg\" alt=\"Open In Colab\"/></a>"
      ]
    },
    {
      "cell_type": "code",
      "execution_count": null,
      "metadata": {
        "id": "v0GwQRWHAhMF"
      },
      "outputs": [],
      "source": []
    }
  ]
}